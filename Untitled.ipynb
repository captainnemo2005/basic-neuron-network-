{
 "cells": [
  {
   "cell_type": "code",
   "execution_count": 1,
   "metadata": {},
   "outputs": [
    {
     "name": "stdout",
     "output_type": "stream",
     "text": [
      "hello\n"
     ]
    }
   ],
   "source": [
    "print(\"hello\")"
   ]
  },
  {
   "cell_type": "code",
   "execution_count": 3,
   "metadata": {},
   "outputs": [
    {
     "name": "stderr",
     "output_type": "stream",
     "text": [
      "C:\\Users\\PC\\Anaconda3\\lib\\site-packages\\h5py\\__init__.py:36: FutureWarning: Conversion of the second argument of issubdtype from `float` to `np.floating` is deprecated. In future, it will be treated as `np.float64 == np.dtype(float).type`.\n",
      "  from ._conv import register_converters as _register_converters\n"
     ]
    }
   ],
   "source": [
    "import pandas as pd\n",
    "import numpy as np\n",
    "import matplotlib.pyplot as plt\n",
    "import tensorflow as tf\n"
   ]
  },
  {
   "cell_type": "code",
   "execution_count": 5,
   "metadata": {},
   "outputs": [
    {
     "data": {
      "text/html": [
       "<div>\n",
       "<style scoped>\n",
       "    .dataframe tbody tr th:only-of-type {\n",
       "        vertical-align: middle;\n",
       "    }\n",
       "\n",
       "    .dataframe tbody tr th {\n",
       "        vertical-align: top;\n",
       "    }\n",
       "\n",
       "    .dataframe thead th {\n",
       "        text-align: right;\n",
       "    }\n",
       "</style>\n",
       "<table border=\"1\" class=\"dataframe\">\n",
       "  <thead>\n",
       "    <tr style=\"text-align: right;\">\n",
       "      <th></th>\n",
       "      <th>area</th>\n",
       "      <th>bathrooms</th>\n",
       "    </tr>\n",
       "  </thead>\n",
       "  <tbody>\n",
       "    <tr>\n",
       "      <th>0</th>\n",
       "      <td>2104.0</td>\n",
       "      <td>3.0</td>\n",
       "    </tr>\n",
       "    <tr>\n",
       "      <th>1</th>\n",
       "      <td>1600.0</td>\n",
       "      <td>3.0</td>\n",
       "    </tr>\n",
       "    <tr>\n",
       "      <th>2</th>\n",
       "      <td>2400.0</td>\n",
       "      <td>3.0</td>\n",
       "    </tr>\n",
       "    <tr>\n",
       "      <th>3</th>\n",
       "      <td>1416.0</td>\n",
       "      <td>2.0</td>\n",
       "    </tr>\n",
       "    <tr>\n",
       "      <th>4</th>\n",
       "      <td>3000.0</td>\n",
       "      <td>4.0</td>\n",
       "    </tr>\n",
       "    <tr>\n",
       "      <th>5</th>\n",
       "      <td>1985.0</td>\n",
       "      <td>4.0</td>\n",
       "    </tr>\n",
       "    <tr>\n",
       "      <th>6</th>\n",
       "      <td>1534.0</td>\n",
       "      <td>3.0</td>\n",
       "    </tr>\n",
       "    <tr>\n",
       "      <th>7</th>\n",
       "      <td>1427.0</td>\n",
       "      <td>3.0</td>\n",
       "    </tr>\n",
       "    <tr>\n",
       "      <th>8</th>\n",
       "      <td>1380.0</td>\n",
       "      <td>3.0</td>\n",
       "    </tr>\n",
       "    <tr>\n",
       "      <th>9</th>\n",
       "      <td>1494.0</td>\n",
       "      <td>3.0</td>\n",
       "    </tr>\n",
       "  </tbody>\n",
       "</table>\n",
       "</div>"
      ],
      "text/plain": [
       "     area  bathrooms\n",
       "0  2104.0        3.0\n",
       "1  1600.0        3.0\n",
       "2  2400.0        3.0\n",
       "3  1416.0        2.0\n",
       "4  3000.0        4.0\n",
       "5  1985.0        4.0\n",
       "6  1534.0        3.0\n",
       "7  1427.0        3.0\n",
       "8  1380.0        3.0\n",
       "9  1494.0        3.0"
      ]
     },
     "execution_count": 5,
     "metadata": {},
     "output_type": "execute_result"
    }
   ],
   "source": [
    "#step 1 load data\n",
    "dataframe = pd.read_csv(\"data.csv\")\n",
    "#remove unncessary data from the index , price, sq_price columns\n",
    "dataframe = dataframe.drop(['index','price','sq_price'], axis = 1)\n",
    "#take and show the first ten row from data that will be use to train the model\n",
    "dataframe = dataframe.head(10)\n",
    "dataframe"
   ]
  },
  {
   "cell_type": "code",
   "execution_count": 6,
   "metadata": {},
   "outputs": [
    {
     "data": {
      "text/html": [
       "<div>\n",
       "<style scoped>\n",
       "    .dataframe tbody tr th:only-of-type {\n",
       "        vertical-align: middle;\n",
       "    }\n",
       "\n",
       "    .dataframe tbody tr th {\n",
       "        vertical-align: top;\n",
       "    }\n",
       "\n",
       "    .dataframe thead th {\n",
       "        text-align: right;\n",
       "    }\n",
       "</style>\n",
       "<table border=\"1\" class=\"dataframe\">\n",
       "  <thead>\n",
       "    <tr style=\"text-align: right;\">\n",
       "      <th></th>\n",
       "      <th>area</th>\n",
       "      <th>bathrooms</th>\n",
       "      <th>y1</th>\n",
       "      <th>y2</th>\n",
       "    </tr>\n",
       "  </thead>\n",
       "  <tbody>\n",
       "    <tr>\n",
       "      <th>0</th>\n",
       "      <td>2104.0</td>\n",
       "      <td>3.0</td>\n",
       "      <td>1</td>\n",
       "      <td>0</td>\n",
       "    </tr>\n",
       "    <tr>\n",
       "      <th>1</th>\n",
       "      <td>1600.0</td>\n",
       "      <td>3.0</td>\n",
       "      <td>1</td>\n",
       "      <td>0</td>\n",
       "    </tr>\n",
       "    <tr>\n",
       "      <th>2</th>\n",
       "      <td>2400.0</td>\n",
       "      <td>3.0</td>\n",
       "      <td>1</td>\n",
       "      <td>0</td>\n",
       "    </tr>\n",
       "    <tr>\n",
       "      <th>3</th>\n",
       "      <td>1416.0</td>\n",
       "      <td>2.0</td>\n",
       "      <td>0</td>\n",
       "      <td>1</td>\n",
       "    </tr>\n",
       "    <tr>\n",
       "      <th>4</th>\n",
       "      <td>3000.0</td>\n",
       "      <td>4.0</td>\n",
       "      <td>0</td>\n",
       "      <td>1</td>\n",
       "    </tr>\n",
       "    <tr>\n",
       "      <th>5</th>\n",
       "      <td>1985.0</td>\n",
       "      <td>4.0</td>\n",
       "      <td>1</td>\n",
       "      <td>0</td>\n",
       "    </tr>\n",
       "    <tr>\n",
       "      <th>6</th>\n",
       "      <td>1534.0</td>\n",
       "      <td>3.0</td>\n",
       "      <td>1</td>\n",
       "      <td>0</td>\n",
       "    </tr>\n",
       "    <tr>\n",
       "      <th>7</th>\n",
       "      <td>1427.0</td>\n",
       "      <td>3.0</td>\n",
       "      <td>0</td>\n",
       "      <td>1</td>\n",
       "    </tr>\n",
       "    <tr>\n",
       "      <th>8</th>\n",
       "      <td>1380.0</td>\n",
       "      <td>3.0</td>\n",
       "      <td>0</td>\n",
       "      <td>1</td>\n",
       "    </tr>\n",
       "    <tr>\n",
       "      <th>9</th>\n",
       "      <td>1494.0</td>\n",
       "      <td>3.0</td>\n",
       "      <td>1</td>\n",
       "      <td>0</td>\n",
       "    </tr>\n",
       "  </tbody>\n",
       "</table>\n",
       "</div>"
      ],
      "text/plain": [
       "     area  bathrooms  y1  y2\n",
       "0  2104.0        3.0   1   0\n",
       "1  1600.0        3.0   1   0\n",
       "2  2400.0        3.0   1   0\n",
       "3  1416.0        2.0   0   1\n",
       "4  3000.0        4.0   0   1\n",
       "5  1985.0        4.0   1   0\n",
       "6  1534.0        3.0   1   0\n",
       "7  1427.0        3.0   0   1\n",
       "8  1380.0        3.0   0   1\n",
       "9  1494.0        3.0   1   0"
      ]
     },
     "execution_count": 6,
     "metadata": {},
     "output_type": "execute_result"
    }
   ],
   "source": [
    "#step 2: setting the label for our data so that we can use it to train\n",
    "#1 is good buy and 0 is bad\n",
    "dataframe.loc[:,('y1')] = [1,1,1,0,0,1,1,0,0,1]\n",
    "#y2 is a negation of y1, opposite\n",
    "dataframe.loc[:,('y2')] = dataframe['y1'] == 0\n",
    "#turn TRUE/FALSE vale to 1s and 0s\n",
    "dataframe.loc[:,('y2')] = dataframe['y2'].astype(int)\n",
    "dataframe"
   ]
  },
  {
   "cell_type": "code",
   "execution_count": 10,
   "metadata": {},
   "outputs": [
    {
     "data": {
      "text/plain": [
       "array([[2.104e+03, 3.000e+00],\n",
       "       [1.600e+03, 3.000e+00],\n",
       "       [2.400e+03, 3.000e+00],\n",
       "       [1.416e+03, 2.000e+00],\n",
       "       [3.000e+03, 4.000e+00],\n",
       "       [1.985e+03, 4.000e+00],\n",
       "       [1.534e+03, 3.000e+00],\n",
       "       [1.427e+03, 3.000e+00],\n",
       "       [1.380e+03, 3.000e+00],\n",
       "       [1.494e+03, 3.000e+00]])"
      ]
     },
     "execution_count": 10,
     "metadata": {},
     "output_type": "execute_result"
    }
   ],
   "source": [
    "#step 3 = prepare data for tensorflow\n",
    "#actually tensors are vector or matrices (N-Dimensions vectors)\n",
    "#vector is tensor level 1\n",
    "#matrix is level 2 tensor\n",
    "#list of list of list of number is level 3 tensor\n",
    "#convert input into tensors\n",
    "inputX = dataframe.loc[:,['area','bathrooms']].as_matrix()\n",
    "#convert labels into tensors\n",
    "inputY = dataframe.loc[:,['y1','y2']].as_matrix()"
   ]
  },
  {
   "cell_type": "code",
   "execution_count": 13,
   "metadata": {},
   "outputs": [],
   "source": [
    "#step 4: Define our hyper parameters\n",
    "learning_rate = 0.000001\n",
    "training_epochs = 2000\n",
    "display_step = 50\n",
    "n_samples = inputY.size"
   ]
  },
  {
   "cell_type": "code",
   "execution_count": 30,
   "metadata": {},
   "outputs": [
    {
     "data": {
      "text/plain": [
       "<tf.Tensor 'Placeholder_11:0' shape=(?, 2) dtype=float32>"
      ]
     },
     "execution_count": 30,
     "metadata": {},
     "output_type": "execute_result"
    }
   ],
   "source": [
    "#step 5: Create our computational graph / Neural Network\n",
    "#None means the number of examples (in here its 10, '2' \n",
    "#stand for 2 inputs that are area and bathrooms)\n",
    "#placeholder in tensorflow is gateway for data into our Neural Network\n",
    "x = tf.placeholder(tf.float32, [None,2])\n",
    "#create weights\n",
    "W = tf.Variable(tf.zeros([2,2]))\n",
    "#create our biases. This is like y = wx+b\n",
    "b = tf.Variable(tf.zeros([2]))\n",
    "#its time to caculate our weights by \n",
    "#multiply the matrix W with our input in the placeholder \n",
    "#and than add it with the biases\n",
    "#the weights will helps us to govern the movements of logic inside our graphs\n",
    "y_values =  tf.add(tf.matmul(x,W) , b)\n",
    "\n",
    "#apply softmax in neural network to our new calculations\n",
    "#result\n",
    "y = tf.nn.softmax(y_values)\n",
    "\n",
    "#feed our matrix with label\n",
    "y_ = tf.placeholder(tf.float32 , [None,2])"
   ]
  },
  {
   "cell_type": "code",
   "execution_count": 32,
   "metadata": {},
   "outputs": [],
   "source": [
    "#step 6: perform training\n",
    "#Creating our cost function by using mean square error\n",
    "#Reduce sum functions from tensorflow can help us \n",
    "#compute to total sum of all dimension in our tensor instead\n",
    "#of using a for loop like in the gradient descent example\n",
    "cost = tf.reduce_sum(pow((y_-y),2)*(2/n_samples))\n",
    "#Gradient descent\n",
    "#this will multiply exactly the same with the gradient descent\n",
    "optimizer = tf.train.GradientDescentOptimizer(learning_rate).minimize(cost)"
   ]
  },
  {
   "cell_type": "code",
   "execution_count": 33,
   "metadata": {},
   "outputs": [
    {
     "name": "stdout",
     "output_type": "stream",
     "text": [
      "WARNING:tensorflow:From C:\\Users\\PC\\Anaconda3\\lib\\site-packages\\tensorflow\\python\\util\\tf_should_use.py:118: initialize_all_variables (from tensorflow.python.ops.variables) is deprecated and will be removed after 2017-03-02.\n",
      "Instructions for updating:\n",
      "Use `tf.global_variables_initializer` instead.\n"
     ]
    }
   ],
   "source": [
    "#intitalize all variable such as place holder or tf. functions\n",
    "init = tf.initialize_all_variables()\n",
    "sess = tf.Session()\n",
    "sess.run(init)"
   ]
  },
  {
   "cell_type": "code",
   "execution_count": 40,
   "metadata": {},
   "outputs": [
    {
     "name": "stdout",
     "output_type": "stream",
     "text": [
      "training step: 0000 cost =  0.478523821\n",
      "training step: 0050 cost =  0.478523761\n",
      "training step: 0100 cost =  0.478523612\n",
      "training step: 0150 cost =  0.478523552\n",
      "training step: 0200 cost =  0.478523433\n",
      "training step: 0250 cost =  0.478523374\n",
      "training step: 0300 cost =  0.478523314\n",
      "training step: 0350 cost =  0.478523195\n",
      "training step: 0400 cost =  0.478523076\n",
      "training step: 0450 cost =  0.478522986\n",
      "training step: 0500 cost =  0.478522927\n",
      "training step: 0550 cost =  0.478522837\n",
      "training step: 0600 cost =  0.478522748\n",
      "training step: 0650 cost =  0.478522658\n",
      "training step: 0700 cost =  0.478522569\n",
      "training step: 0750 cost =  0.478522480\n",
      "training step: 0800 cost =  0.478522390\n",
      "training step: 0850 cost =  0.478522331\n",
      "training step: 0900 cost =  0.478522241\n",
      "training step: 0950 cost =  0.478522092\n",
      "training step: 1000 cost =  0.478522032\n",
      "training step: 1050 cost =  0.478521913\n",
      "training step: 1100 cost =  0.478521854\n",
      "training step: 1150 cost =  0.478521794\n",
      "training step: 1200 cost =  0.478521675\n",
      "training step: 1250 cost =  0.478521585\n",
      "training step: 1300 cost =  0.478521526\n",
      "training step: 1350 cost =  0.478521436\n",
      "training step: 1400 cost =  0.478521347\n",
      "training step: 1450 cost =  0.478521287\n",
      "training step: 1500 cost =  0.478521168\n",
      "training step: 1550 cost =  0.478521079\n",
      "training step: 1600 cost =  0.478520960\n",
      "training step: 1650 cost =  0.478520900\n",
      "training step: 1700 cost =  0.478520751\n",
      "training step: 1750 cost =  0.478520691\n",
      "training step: 1800 cost =  0.478520602\n",
      "training step: 1850 cost =  0.478520513\n",
      "training step: 1900 cost =  0.478520453\n",
      "training step: 1950 cost =  0.478520334\n",
      "Finish Training\n",
      "Training cost is : 0.47852024 W =  [[ 0.00011369 -0.00011369]\n",
      " [ 0.00017878 -0.00017878]] b =  [-8.8227425e-06  8.8227489e-06]\n"
     ]
    }
   ],
   "source": [
    "#training Loop\n",
    "for i in range(training_epochs):\n",
    "    sess.run(optimizer,feed_dict = {x:inputX,y_:inputY})\n",
    "    \n",
    "    if i % display_step == 0:\n",
    "        cc = sess.run(cost,feed_dict = {x:inputX,y_:inputY})\n",
    "        print(\"training step: %04d\" %(i), \"cost = \" , \"{:.9f}\".format(cc))\n",
    "print(\"Finish Training\")\n",
    "training_cost = sess.run(cost,feed_dict = {x:inputX,y_:inputY})\n",
    "print(\"Training cost is :\",training_cost, \"W = \", sess.run(W), \"b = \", sess.run(b) )"
   ]
  },
  {
   "cell_type": "code",
   "execution_count": null,
   "metadata": {},
   "outputs": [],
   "source": []
  }
 ],
 "metadata": {
  "kernelspec": {
   "display_name": "Python 3",
   "language": "python",
   "name": "python3"
  },
  "language_info": {
   "codemirror_mode": {
    "name": "ipython",
    "version": 3
   },
   "file_extension": ".py",
   "mimetype": "text/x-python",
   "name": "python",
   "nbconvert_exporter": "python",
   "pygments_lexer": "ipython3",
   "version": "3.6.4"
  }
 },
 "nbformat": 4,
 "nbformat_minor": 2
}
